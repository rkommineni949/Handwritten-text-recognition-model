{
  "nbformat": 4,
  "nbformat_minor": 0,
  "metadata": {
    "colab": {
      "name": "Hand Written Text Recognition Model.ipynb",
      "provenance": [],
      "collapsed_sections": []
    },
    "kernelspec": {
      "name": "python3",
      "display_name": "Python 3"
    },
    "language_info": {
      "name": "python"
    },
    "gpuClass": "standard",
    "accelerator": "GPU"
  },
  "cells": [
    {
      "cell_type": "markdown",
      "source": [
        "# Environment Setup"
      ],
      "metadata": {
        "id": "goZ4GTJnjjr6"
      }
    },
    {
      "cell_type": "code",
      "source": [
        "from google.colab import drive\n",
        "\n",
        "drive.mount('/content/drive/', force_remount=True)\n"
      ],
      "metadata": {
        "id": "N_lGwWAamDbx",
        "colab": {
          "base_uri": "https://localhost:8080/"
        },
        "outputId": "d0dbae65-adc6-43ce-c2e0-2a73834ad744"
      },
      "execution_count": 3,
      "outputs": [
        {
          "output_type": "stream",
          "name": "stdout",
          "text": [
            "Mounted at /content/drive/\n"
          ]
        }
      ]
    },
    {
      "cell_type": "code",
      "source": [
        "root_directory = \"drive/MyDrive/ML/dataset\""
      ],
      "metadata": {
        "id": "a6qXO_t2mTFe"
      },
      "execution_count": 29,
      "outputs": []
    },
    {
      "cell_type": "code",
      "source": [
        "filename_zip = \"A_Z_Handwritten_Data.zip\" "
      ],
      "metadata": {
        "id": "Ukv310cvqt_y"
      },
      "execution_count": 5,
      "outputs": []
    },
    {
      "cell_type": "code",
      "source": [
        "!ls drive/MyDrive/ML/dataset/"
      ],
      "metadata": {
        "colab": {
          "base_uri": "https://localhost:8080/"
        },
        "id": "7yQ3hUYgp9AO",
        "outputId": "a2a560be-6c54-440b-c67d-fb81d235359b"
      },
      "execution_count": 6,
      "outputs": [
        {
          "output_type": "stream",
          "name": "stdout",
          "text": [
            "A_Z_Handwritten_Data.csv  A_Z_Handwritten_Data.zip  Input  Output  saved_models\n"
          ]
        }
      ]
    },
    {
      "cell_type": "code",
      "source": [
        "# set path for your zip file and\n",
        "# destination path after unzipping your file.\n",
        "filepath = f\"{root_directory}/{filename_zip}\"\n",
        "\n",
        "destination = f\"{root_directory}/\"\n"
      ],
      "metadata": {
        "id": "Q0fWapYkixvx"
      },
      "execution_count": 7,
      "outputs": []
    },
    {
      "cell_type": "code",
      "source": [
        "# unzip the zip file\n",
        "!unzip {filepath} -d {destination}\n"
      ],
      "metadata": {
        "colab": {
          "base_uri": "https://localhost:8080/"
        },
        "id": "w9XfxegUd_QL",
        "outputId": "babcb9b3-28ba-42f2-91e6-bbed1f889fb4"
      },
      "execution_count": 8,
      "outputs": [
        {
          "output_type": "stream",
          "name": "stdout",
          "text": [
            "Archive:  drive/MyDrive/ML/dataset/A_Z_Handwritten_Data.zip\n",
            "replace drive/MyDrive/ML/dataset/A_Z_Handwritten_Data.csv? [y]es, [n]o, [A]ll, [N]one, [r]ename: y\n",
            "  inflating: drive/MyDrive/ML/dataset/A_Z_Handwritten_Data.csv  \n"
          ]
        }
      ]
    },
    {
      "cell_type": "code",
      "source": [
        "filename_unzipped = \"A_Z_Handwritten_Data.csv\"\n",
        "\n",
        "dataset = f\"{root_directory}/{filename_unzipped}\""
      ],
      "metadata": {
        "id": "KxecJhLix4sz"
      },
      "execution_count": 9,
      "outputs": []
    },
    {
      "cell_type": "code",
      "source": [
        "input_plots_path = f\"{root_directory}/Input\"\n",
        "output_plots_path = f\"{root_directory}/Output\"\n",
        "saved_models_path = f\"{root_directory}/saved_models\""
      ],
      "metadata": {
        "id": "nRhMWCG3IrQB"
      },
      "execution_count": 10,
      "outputs": []
    },
    {
      "cell_type": "markdown",
      "source": [
        "# Packages Import"
      ],
      "metadata": {
        "id": "WCfjaIKktoOQ"
      }
    },
    {
      "cell_type": "code",
      "source": [
        "import numpy\n",
        "import pandas\n",
        "import matplotlib.pyplot as plot\n",
        "import cv2\n",
        "from sklearn.model_selection import train_test_split\n",
        "from sklearn.utils import shuffle\n",
        "\n",
        "from tensorflow import keras\n",
        "\n",
        "from keras.models import Sequential\n",
        "from keras.layers import Dense, Flatten, Conv2D, MaxPool2D, Dropout\n",
        "# from keras.optimizers import SGD, Adam\n",
        "# from keras.optimizers import SGD\n",
        "\n",
        "from keras.optimizers import gradient_descent_v2 as SGD\n",
        "\n",
        "from keras import optimizers\n",
        "from keras.callbacks import ReduceLROnPlateau, EarlyStopping\n",
        "from keras.utils.np_utils import to_categorical\n"
      ],
      "metadata": {
        "id": "ZP_FI_Mht0gD"
      },
      "execution_count": 11,
      "outputs": []
    },
    {
      "cell_type": "markdown",
      "source": [
        "# Data Preprocessing (Read Dataset)\n",
        "- We use pandas to read our dataset and hence return a dataframe."
      ],
      "metadata": {
        "id": "F2_duRXuwR6L"
      }
    },
    {
      "cell_type": "code",
      "source": [
        "df = pandas.read_csv(f'{dataset}')\n",
        "df = df.astype('float32')\n",
        "\n",
        "df = pandas.DataFrame(df)\n",
        "\n",
        "df.head()"
      ],
      "metadata": {
        "colab": {
          "base_uri": "https://localhost:8080/",
          "height": 236
        },
        "id": "Z8xBLvyOuOde",
        "outputId": "ab7f4370-739d-4ded-e5cb-3b5ca791a00e"
      },
      "execution_count": 12,
      "outputs": [
        {
          "output_type": "execute_result",
          "data": {
            "text/plain": [
              "     0  0.1  0.2  0.3  0.4  0.5  0.6  0.7  0.8  0.9  ...  0.639  0.640  0.641  \\\n",
              "0  0.0  0.0  0.0  0.0  0.0  0.0  0.0  0.0  0.0  0.0  ...    0.0    0.0    0.0   \n",
              "1  0.0  0.0  0.0  0.0  0.0  0.0  0.0  0.0  0.0  0.0  ...    0.0    0.0    0.0   \n",
              "2  0.0  0.0  0.0  0.0  0.0  0.0  0.0  0.0  0.0  0.0  ...    0.0    0.0    0.0   \n",
              "3  0.0  0.0  0.0  0.0  0.0  0.0  0.0  0.0  0.0  0.0  ...    0.0    0.0    0.0   \n",
              "4  0.0  0.0  0.0  0.0  0.0  0.0  0.0  0.0  0.0  0.0  ...    0.0    0.0    0.0   \n",
              "\n",
              "   0.642  0.643  0.644  0.645  0.646  0.647  0.648  \n",
              "0    0.0    0.0    0.0    0.0    0.0    0.0    0.0  \n",
              "1    0.0    0.0    0.0    0.0    0.0    0.0    0.0  \n",
              "2    0.0    0.0    0.0    0.0    0.0    0.0    0.0  \n",
              "3    0.0    0.0    0.0    0.0    0.0    0.0    0.0  \n",
              "4    0.0    0.0    0.0    0.0    0.0    0.0    0.0  \n",
              "\n",
              "[5 rows x 785 columns]"
            ],
            "text/html": [
              "\n",
              "  <div id=\"df-b9aaadab-a15d-420a-9825-8ff5ed5dceed\">\n",
              "    <div class=\"colab-df-container\">\n",
              "      <div>\n",
              "<style scoped>\n",
              "    .dataframe tbody tr th:only-of-type {\n",
              "        vertical-align: middle;\n",
              "    }\n",
              "\n",
              "    .dataframe tbody tr th {\n",
              "        vertical-align: top;\n",
              "    }\n",
              "\n",
              "    .dataframe thead th {\n",
              "        text-align: right;\n",
              "    }\n",
              "</style>\n",
              "<table border=\"1\" class=\"dataframe\">\n",
              "  <thead>\n",
              "    <tr style=\"text-align: right;\">\n",
              "      <th></th>\n",
              "      <th>0</th>\n",
              "      <th>0.1</th>\n",
              "      <th>0.2</th>\n",
              "      <th>0.3</th>\n",
              "      <th>0.4</th>\n",
              "      <th>0.5</th>\n",
              "      <th>0.6</th>\n",
              "      <th>0.7</th>\n",
              "      <th>0.8</th>\n",
              "      <th>0.9</th>\n",
              "      <th>...</th>\n",
              "      <th>0.639</th>\n",
              "      <th>0.640</th>\n",
              "      <th>0.641</th>\n",
              "      <th>0.642</th>\n",
              "      <th>0.643</th>\n",
              "      <th>0.644</th>\n",
              "      <th>0.645</th>\n",
              "      <th>0.646</th>\n",
              "      <th>0.647</th>\n",
              "      <th>0.648</th>\n",
              "    </tr>\n",
              "  </thead>\n",
              "  <tbody>\n",
              "    <tr>\n",
              "      <th>0</th>\n",
              "      <td>0.0</td>\n",
              "      <td>0.0</td>\n",
              "      <td>0.0</td>\n",
              "      <td>0.0</td>\n",
              "      <td>0.0</td>\n",
              "      <td>0.0</td>\n",
              "      <td>0.0</td>\n",
              "      <td>0.0</td>\n",
              "      <td>0.0</td>\n",
              "      <td>0.0</td>\n",
              "      <td>...</td>\n",
              "      <td>0.0</td>\n",
              "      <td>0.0</td>\n",
              "      <td>0.0</td>\n",
              "      <td>0.0</td>\n",
              "      <td>0.0</td>\n",
              "      <td>0.0</td>\n",
              "      <td>0.0</td>\n",
              "      <td>0.0</td>\n",
              "      <td>0.0</td>\n",
              "      <td>0.0</td>\n",
              "    </tr>\n",
              "    <tr>\n",
              "      <th>1</th>\n",
              "      <td>0.0</td>\n",
              "      <td>0.0</td>\n",
              "      <td>0.0</td>\n",
              "      <td>0.0</td>\n",
              "      <td>0.0</td>\n",
              "      <td>0.0</td>\n",
              "      <td>0.0</td>\n",
              "      <td>0.0</td>\n",
              "      <td>0.0</td>\n",
              "      <td>0.0</td>\n",
              "      <td>...</td>\n",
              "      <td>0.0</td>\n",
              "      <td>0.0</td>\n",
              "      <td>0.0</td>\n",
              "      <td>0.0</td>\n",
              "      <td>0.0</td>\n",
              "      <td>0.0</td>\n",
              "      <td>0.0</td>\n",
              "      <td>0.0</td>\n",
              "      <td>0.0</td>\n",
              "      <td>0.0</td>\n",
              "    </tr>\n",
              "    <tr>\n",
              "      <th>2</th>\n",
              "      <td>0.0</td>\n",
              "      <td>0.0</td>\n",
              "      <td>0.0</td>\n",
              "      <td>0.0</td>\n",
              "      <td>0.0</td>\n",
              "      <td>0.0</td>\n",
              "      <td>0.0</td>\n",
              "      <td>0.0</td>\n",
              "      <td>0.0</td>\n",
              "      <td>0.0</td>\n",
              "      <td>...</td>\n",
              "      <td>0.0</td>\n",
              "      <td>0.0</td>\n",
              "      <td>0.0</td>\n",
              "      <td>0.0</td>\n",
              "      <td>0.0</td>\n",
              "      <td>0.0</td>\n",
              "      <td>0.0</td>\n",
              "      <td>0.0</td>\n",
              "      <td>0.0</td>\n",
              "      <td>0.0</td>\n",
              "    </tr>\n",
              "    <tr>\n",
              "      <th>3</th>\n",
              "      <td>0.0</td>\n",
              "      <td>0.0</td>\n",
              "      <td>0.0</td>\n",
              "      <td>0.0</td>\n",
              "      <td>0.0</td>\n",
              "      <td>0.0</td>\n",
              "      <td>0.0</td>\n",
              "      <td>0.0</td>\n",
              "      <td>0.0</td>\n",
              "      <td>0.0</td>\n",
              "      <td>...</td>\n",
              "      <td>0.0</td>\n",
              "      <td>0.0</td>\n",
              "      <td>0.0</td>\n",
              "      <td>0.0</td>\n",
              "      <td>0.0</td>\n",
              "      <td>0.0</td>\n",
              "      <td>0.0</td>\n",
              "      <td>0.0</td>\n",
              "      <td>0.0</td>\n",
              "      <td>0.0</td>\n",
              "    </tr>\n",
              "    <tr>\n",
              "      <th>4</th>\n",
              "      <td>0.0</td>\n",
              "      <td>0.0</td>\n",
              "      <td>0.0</td>\n",
              "      <td>0.0</td>\n",
              "      <td>0.0</td>\n",
              "      <td>0.0</td>\n",
              "      <td>0.0</td>\n",
              "      <td>0.0</td>\n",
              "      <td>0.0</td>\n",
              "      <td>0.0</td>\n",
              "      <td>...</td>\n",
              "      <td>0.0</td>\n",
              "      <td>0.0</td>\n",
              "      <td>0.0</td>\n",
              "      <td>0.0</td>\n",
              "      <td>0.0</td>\n",
              "      <td>0.0</td>\n",
              "      <td>0.0</td>\n",
              "      <td>0.0</td>\n",
              "      <td>0.0</td>\n",
              "      <td>0.0</td>\n",
              "    </tr>\n",
              "  </tbody>\n",
              "</table>\n",
              "<p>5 rows × 785 columns</p>\n",
              "</div>\n",
              "      <button class=\"colab-df-convert\" onclick=\"convertToInteractive('df-b9aaadab-a15d-420a-9825-8ff5ed5dceed')\"\n",
              "              title=\"Convert this dataframe to an interactive table.\"\n",
              "              style=\"display:none;\">\n",
              "        \n",
              "  <svg xmlns=\"http://www.w3.org/2000/svg\" height=\"24px\"viewBox=\"0 0 24 24\"\n",
              "       width=\"24px\">\n",
              "    <path d=\"M0 0h24v24H0V0z\" fill=\"none\"/>\n",
              "    <path d=\"M18.56 5.44l.94 2.06.94-2.06 2.06-.94-2.06-.94-.94-2.06-.94 2.06-2.06.94zm-11 1L8.5 8.5l.94-2.06 2.06-.94-2.06-.94L8.5 2.5l-.94 2.06-2.06.94zm10 10l.94 2.06.94-2.06 2.06-.94-2.06-.94-.94-2.06-.94 2.06-2.06.94z\"/><path d=\"M17.41 7.96l-1.37-1.37c-.4-.4-.92-.59-1.43-.59-.52 0-1.04.2-1.43.59L10.3 9.45l-7.72 7.72c-.78.78-.78 2.05 0 2.83L4 21.41c.39.39.9.59 1.41.59.51 0 1.02-.2 1.41-.59l7.78-7.78 2.81-2.81c.8-.78.8-2.07 0-2.86zM5.41 20L4 18.59l7.72-7.72 1.47 1.35L5.41 20z\"/>\n",
              "  </svg>\n",
              "      </button>\n",
              "      \n",
              "  <style>\n",
              "    .colab-df-container {\n",
              "      display:flex;\n",
              "      flex-wrap:wrap;\n",
              "      gap: 12px;\n",
              "    }\n",
              "\n",
              "    .colab-df-convert {\n",
              "      background-color: #E8F0FE;\n",
              "      border: none;\n",
              "      border-radius: 50%;\n",
              "      cursor: pointer;\n",
              "      display: none;\n",
              "      fill: #1967D2;\n",
              "      height: 32px;\n",
              "      padding: 0 0 0 0;\n",
              "      width: 32px;\n",
              "    }\n",
              "\n",
              "    .colab-df-convert:hover {\n",
              "      background-color: #E2EBFA;\n",
              "      box-shadow: 0px 1px 2px rgba(60, 64, 67, 0.3), 0px 1px 3px 1px rgba(60, 64, 67, 0.15);\n",
              "      fill: #174EA6;\n",
              "    }\n",
              "\n",
              "    [theme=dark] .colab-df-convert {\n",
              "      background-color: #3B4455;\n",
              "      fill: #D2E3FC;\n",
              "    }\n",
              "\n",
              "    [theme=dark] .colab-df-convert:hover {\n",
              "      background-color: #434B5C;\n",
              "      box-shadow: 0px 1px 3px 1px rgba(0, 0, 0, 0.15);\n",
              "      filter: drop-shadow(0px 1px 2px rgba(0, 0, 0, 0.3));\n",
              "      fill: #FFFFFF;\n",
              "    }\n",
              "  </style>\n",
              "\n",
              "      <script>\n",
              "        const buttonEl =\n",
              "          document.querySelector('#df-b9aaadab-a15d-420a-9825-8ff5ed5dceed button.colab-df-convert');\n",
              "        buttonEl.style.display =\n",
              "          google.colab.kernel.accessAllowed ? 'block' : 'none';\n",
              "\n",
              "        async function convertToInteractive(key) {\n",
              "          const element = document.querySelector('#df-b9aaadab-a15d-420a-9825-8ff5ed5dceed');\n",
              "          const dataTable =\n",
              "            await google.colab.kernel.invokeFunction('convertToInteractive',\n",
              "                                                     [key], {});\n",
              "          if (!dataTable) return;\n",
              "\n",
              "          const docLinkHtml = 'Like what you see? Visit the ' +\n",
              "            '<a target=\"_blank\" href=https://colab.research.google.com/notebooks/data_table.ipynb>data table notebook</a>'\n",
              "            + ' to learn more about interactive tables.';\n",
              "          element.innerHTML = '';\n",
              "          dataTable['output_type'] = 'display_data';\n",
              "          await google.colab.output.renderOutput(dataTable, element);\n",
              "          const docLink = document.createElement('div');\n",
              "          docLink.innerHTML = docLinkHtml;\n",
              "          element.appendChild(docLink);\n",
              "        }\n",
              "      </script>\n",
              "    </div>\n",
              "  </div>\n",
              "  "
            ]
          },
          "metadata": {},
          "execution_count": 12
        }
      ]
    },
    {
      "cell_type": "markdown",
      "source": [
        "# Know Your Data"
      ],
      "metadata": {
        "id": "3-4YKJCWzceC"
      }
    },
    {
      "cell_type": "code",
      "source": [
        "\n",
        "print(f\"Dataframe shape is: \\n\")\n",
        "\n",
        "df.shape\n"
      ],
      "metadata": {
        "colab": {
          "base_uri": "https://localhost:8080/"
        },
        "id": "ApfxDBb404Pp",
        "outputId": "60d99375-dd37-4cbc-c583-34ed14a7e627"
      },
      "execution_count": 13,
      "outputs": [
        {
          "output_type": "stream",
          "name": "stdout",
          "text": [
            "Dataframe shape is: \n",
            "\n"
          ]
        },
        {
          "output_type": "execute_result",
          "data": {
            "text/plain": [
              "(372450, 785)"
            ]
          },
          "metadata": {},
          "execution_count": 13
        }
      ]
    },
    {
      "cell_type": "code",
      "source": [
        " \n",
        "print(f\"Dataframe Info is: \\n\")\n",
        "\n",
        "df.info()"
      ],
      "metadata": {
        "colab": {
          "base_uri": "https://localhost:8080/"
        },
        "id": "acvnMBoh1HjC",
        "outputId": "2cec5728-ff96-406f-820d-b66a214be825"
      },
      "execution_count": 14,
      "outputs": [
        {
          "output_type": "stream",
          "name": "stdout",
          "text": [
            "Dataframe Info is: \n",
            "\n",
            "<class 'pandas.core.frame.DataFrame'>\n",
            "RangeIndex: 372450 entries, 0 to 372449\n",
            "Columns: 785 entries, 0 to 0.648\n",
            "dtypes: float32(785)\n",
            "memory usage: 1.1 GB\n"
          ]
        }
      ]
    },
    {
      "cell_type": "code",
      "source": [
        "\n",
        "print(f\"Dataframe Description: \\n\\n\")\n",
        "df.describe()\n"
      ],
      "metadata": {
        "colab": {
          "base_uri": "https://localhost:8080/",
          "height": 446
        },
        "id": "915Of6uJzNau",
        "outputId": "23cc6fd2-0a24-4a3f-c497-38692b4aec63"
      },
      "execution_count": 15,
      "outputs": [
        {
          "output_type": "stream",
          "name": "stdout",
          "text": [
            "Dataframe Description: \n",
            "\n",
            "\n"
          ]
        },
        {
          "output_type": "execute_result",
          "data": {
            "text/plain": [
              "                   0       0.1       0.2       0.3       0.4       0.5  \\\n",
              "count  372450.000000  372450.0  372450.0  372450.0  372450.0  372450.0   \n",
              "mean       13.523490       0.0       0.0       0.0       0.0       0.0   \n",
              "std         6.740824       0.0       0.0       0.0       0.0       0.0   \n",
              "min         0.000000       0.0       0.0       0.0       0.0       0.0   \n",
              "25%        10.000000       0.0       0.0       0.0       0.0       0.0   \n",
              "50%        14.000000       0.0       0.0       0.0       0.0       0.0   \n",
              "75%        18.000000       0.0       0.0       0.0       0.0       0.0   \n",
              "max        25.000000       0.0       0.0       0.0       0.0       0.0   \n",
              "\n",
              "            0.6       0.7       0.8       0.9  ...          0.639  \\\n",
              "count  372450.0  372450.0  372450.0  372450.0  ...  372450.000000   \n",
              "mean        0.0       0.0       0.0       0.0  ...       0.001616   \n",
              "std         0.0       0.0       0.0       0.0  ...       0.490788   \n",
              "min         0.0       0.0       0.0       0.0  ...       0.000000   \n",
              "25%         0.0       0.0       0.0       0.0  ...       0.000000   \n",
              "50%         0.0       0.0       0.0       0.0  ...       0.000000   \n",
              "75%         0.0       0.0       0.0       0.0  ...       0.000000   \n",
              "max         0.0       0.0       0.0       0.0  ...     252.000000   \n",
              "\n",
              "               0.640          0.641          0.642          0.643  \\\n",
              "count  372450.000000  372450.000000  372450.000000  372450.000000   \n",
              "mean        0.001592       0.001117       0.000929       0.000685   \n",
              "std         0.517297       0.421332       0.419180       0.385566   \n",
              "min         0.000000       0.000000       0.000000       0.000000   \n",
              "25%         0.000000       0.000000       0.000000       0.000000   \n",
              "50%         0.000000       0.000000       0.000000       0.000000   \n",
              "75%         0.000000       0.000000       0.000000       0.000000   \n",
              "max       226.000000     229.000000     228.000000     235.000000   \n",
              "\n",
              "               0.644          0.645          0.646          0.647  \\\n",
              "count  372450.000000  372450.000000  372450.000000  372450.000000   \n",
              "mean        0.000596       0.000618       0.000690       0.000239   \n",
              "std         0.319820       0.208942       0.335227       0.134852   \n",
              "min         0.000000       0.000000       0.000000       0.000000   \n",
              "25%         0.000000       0.000000       0.000000       0.000000   \n",
              "50%         0.000000       0.000000       0.000000       0.000000   \n",
              "75%         0.000000       0.000000       0.000000       0.000000   \n",
              "max       194.000000     103.000000     198.000000      82.000000   \n",
              "\n",
              "               0.648  \n",
              "count  372450.000000  \n",
              "mean        0.000011  \n",
              "std         0.006554  \n",
              "min         0.000000  \n",
              "25%         0.000000  \n",
              "50%         0.000000  \n",
              "75%         0.000000  \n",
              "max         4.000000  \n",
              "\n",
              "[8 rows x 785 columns]"
            ],
            "text/html": [
              "\n",
              "  <div id=\"df-5c3dd5b2-cb91-4169-a702-8e319a6c4bf7\">\n",
              "    <div class=\"colab-df-container\">\n",
              "      <div>\n",
              "<style scoped>\n",
              "    .dataframe tbody tr th:only-of-type {\n",
              "        vertical-align: middle;\n",
              "    }\n",
              "\n",
              "    .dataframe tbody tr th {\n",
              "        vertical-align: top;\n",
              "    }\n",
              "\n",
              "    .dataframe thead th {\n",
              "        text-align: right;\n",
              "    }\n",
              "</style>\n",
              "<table border=\"1\" class=\"dataframe\">\n",
              "  <thead>\n",
              "    <tr style=\"text-align: right;\">\n",
              "      <th></th>\n",
              "      <th>0</th>\n",
              "      <th>0.1</th>\n",
              "      <th>0.2</th>\n",
              "      <th>0.3</th>\n",
              "      <th>0.4</th>\n",
              "      <th>0.5</th>\n",
              "      <th>0.6</th>\n",
              "      <th>0.7</th>\n",
              "      <th>0.8</th>\n",
              "      <th>0.9</th>\n",
              "      <th>...</th>\n",
              "      <th>0.639</th>\n",
              "      <th>0.640</th>\n",
              "      <th>0.641</th>\n",
              "      <th>0.642</th>\n",
              "      <th>0.643</th>\n",
              "      <th>0.644</th>\n",
              "      <th>0.645</th>\n",
              "      <th>0.646</th>\n",
              "      <th>0.647</th>\n",
              "      <th>0.648</th>\n",
              "    </tr>\n",
              "  </thead>\n",
              "  <tbody>\n",
              "    <tr>\n",
              "      <th>count</th>\n",
              "      <td>372450.000000</td>\n",
              "      <td>372450.0</td>\n",
              "      <td>372450.0</td>\n",
              "      <td>372450.0</td>\n",
              "      <td>372450.0</td>\n",
              "      <td>372450.0</td>\n",
              "      <td>372450.0</td>\n",
              "      <td>372450.0</td>\n",
              "      <td>372450.0</td>\n",
              "      <td>372450.0</td>\n",
              "      <td>...</td>\n",
              "      <td>372450.000000</td>\n",
              "      <td>372450.000000</td>\n",
              "      <td>372450.000000</td>\n",
              "      <td>372450.000000</td>\n",
              "      <td>372450.000000</td>\n",
              "      <td>372450.000000</td>\n",
              "      <td>372450.000000</td>\n",
              "      <td>372450.000000</td>\n",
              "      <td>372450.000000</td>\n",
              "      <td>372450.000000</td>\n",
              "    </tr>\n",
              "    <tr>\n",
              "      <th>mean</th>\n",
              "      <td>13.523490</td>\n",
              "      <td>0.0</td>\n",
              "      <td>0.0</td>\n",
              "      <td>0.0</td>\n",
              "      <td>0.0</td>\n",
              "      <td>0.0</td>\n",
              "      <td>0.0</td>\n",
              "      <td>0.0</td>\n",
              "      <td>0.0</td>\n",
              "      <td>0.0</td>\n",
              "      <td>...</td>\n",
              "      <td>0.001616</td>\n",
              "      <td>0.001592</td>\n",
              "      <td>0.001117</td>\n",
              "      <td>0.000929</td>\n",
              "      <td>0.000685</td>\n",
              "      <td>0.000596</td>\n",
              "      <td>0.000618</td>\n",
              "      <td>0.000690</td>\n",
              "      <td>0.000239</td>\n",
              "      <td>0.000011</td>\n",
              "    </tr>\n",
              "    <tr>\n",
              "      <th>std</th>\n",
              "      <td>6.740824</td>\n",
              "      <td>0.0</td>\n",
              "      <td>0.0</td>\n",
              "      <td>0.0</td>\n",
              "      <td>0.0</td>\n",
              "      <td>0.0</td>\n",
              "      <td>0.0</td>\n",
              "      <td>0.0</td>\n",
              "      <td>0.0</td>\n",
              "      <td>0.0</td>\n",
              "      <td>...</td>\n",
              "      <td>0.490788</td>\n",
              "      <td>0.517297</td>\n",
              "      <td>0.421332</td>\n",
              "      <td>0.419180</td>\n",
              "      <td>0.385566</td>\n",
              "      <td>0.319820</td>\n",
              "      <td>0.208942</td>\n",
              "      <td>0.335227</td>\n",
              "      <td>0.134852</td>\n",
              "      <td>0.006554</td>\n",
              "    </tr>\n",
              "    <tr>\n",
              "      <th>min</th>\n",
              "      <td>0.000000</td>\n",
              "      <td>0.0</td>\n",
              "      <td>0.0</td>\n",
              "      <td>0.0</td>\n",
              "      <td>0.0</td>\n",
              "      <td>0.0</td>\n",
              "      <td>0.0</td>\n",
              "      <td>0.0</td>\n",
              "      <td>0.0</td>\n",
              "      <td>0.0</td>\n",
              "      <td>...</td>\n",
              "      <td>0.000000</td>\n",
              "      <td>0.000000</td>\n",
              "      <td>0.000000</td>\n",
              "      <td>0.000000</td>\n",
              "      <td>0.000000</td>\n",
              "      <td>0.000000</td>\n",
              "      <td>0.000000</td>\n",
              "      <td>0.000000</td>\n",
              "      <td>0.000000</td>\n",
              "      <td>0.000000</td>\n",
              "    </tr>\n",
              "    <tr>\n",
              "      <th>25%</th>\n",
              "      <td>10.000000</td>\n",
              "      <td>0.0</td>\n",
              "      <td>0.0</td>\n",
              "      <td>0.0</td>\n",
              "      <td>0.0</td>\n",
              "      <td>0.0</td>\n",
              "      <td>0.0</td>\n",
              "      <td>0.0</td>\n",
              "      <td>0.0</td>\n",
              "      <td>0.0</td>\n",
              "      <td>...</td>\n",
              "      <td>0.000000</td>\n",
              "      <td>0.000000</td>\n",
              "      <td>0.000000</td>\n",
              "      <td>0.000000</td>\n",
              "      <td>0.000000</td>\n",
              "      <td>0.000000</td>\n",
              "      <td>0.000000</td>\n",
              "      <td>0.000000</td>\n",
              "      <td>0.000000</td>\n",
              "      <td>0.000000</td>\n",
              "    </tr>\n",
              "    <tr>\n",
              "      <th>50%</th>\n",
              "      <td>14.000000</td>\n",
              "      <td>0.0</td>\n",
              "      <td>0.0</td>\n",
              "      <td>0.0</td>\n",
              "      <td>0.0</td>\n",
              "      <td>0.0</td>\n",
              "      <td>0.0</td>\n",
              "      <td>0.0</td>\n",
              "      <td>0.0</td>\n",
              "      <td>0.0</td>\n",
              "      <td>...</td>\n",
              "      <td>0.000000</td>\n",
              "      <td>0.000000</td>\n",
              "      <td>0.000000</td>\n",
              "      <td>0.000000</td>\n",
              "      <td>0.000000</td>\n",
              "      <td>0.000000</td>\n",
              "      <td>0.000000</td>\n",
              "      <td>0.000000</td>\n",
              "      <td>0.000000</td>\n",
              "      <td>0.000000</td>\n",
              "    </tr>\n",
              "    <tr>\n",
              "      <th>75%</th>\n",
              "      <td>18.000000</td>\n",
              "      <td>0.0</td>\n",
              "      <td>0.0</td>\n",
              "      <td>0.0</td>\n",
              "      <td>0.0</td>\n",
              "      <td>0.0</td>\n",
              "      <td>0.0</td>\n",
              "      <td>0.0</td>\n",
              "      <td>0.0</td>\n",
              "      <td>0.0</td>\n",
              "      <td>...</td>\n",
              "      <td>0.000000</td>\n",
              "      <td>0.000000</td>\n",
              "      <td>0.000000</td>\n",
              "      <td>0.000000</td>\n",
              "      <td>0.000000</td>\n",
              "      <td>0.000000</td>\n",
              "      <td>0.000000</td>\n",
              "      <td>0.000000</td>\n",
              "      <td>0.000000</td>\n",
              "      <td>0.000000</td>\n",
              "    </tr>\n",
              "    <tr>\n",
              "      <th>max</th>\n",
              "      <td>25.000000</td>\n",
              "      <td>0.0</td>\n",
              "      <td>0.0</td>\n",
              "      <td>0.0</td>\n",
              "      <td>0.0</td>\n",
              "      <td>0.0</td>\n",
              "      <td>0.0</td>\n",
              "      <td>0.0</td>\n",
              "      <td>0.0</td>\n",
              "      <td>0.0</td>\n",
              "      <td>...</td>\n",
              "      <td>252.000000</td>\n",
              "      <td>226.000000</td>\n",
              "      <td>229.000000</td>\n",
              "      <td>228.000000</td>\n",
              "      <td>235.000000</td>\n",
              "      <td>194.000000</td>\n",
              "      <td>103.000000</td>\n",
              "      <td>198.000000</td>\n",
              "      <td>82.000000</td>\n",
              "      <td>4.000000</td>\n",
              "    </tr>\n",
              "  </tbody>\n",
              "</table>\n",
              "<p>8 rows × 785 columns</p>\n",
              "</div>\n",
              "      <button class=\"colab-df-convert\" onclick=\"convertToInteractive('df-5c3dd5b2-cb91-4169-a702-8e319a6c4bf7')\"\n",
              "              title=\"Convert this dataframe to an interactive table.\"\n",
              "              style=\"display:none;\">\n",
              "        \n",
              "  <svg xmlns=\"http://www.w3.org/2000/svg\" height=\"24px\"viewBox=\"0 0 24 24\"\n",
              "       width=\"24px\">\n",
              "    <path d=\"M0 0h24v24H0V0z\" fill=\"none\"/>\n",
              "    <path d=\"M18.56 5.44l.94 2.06.94-2.06 2.06-.94-2.06-.94-.94-2.06-.94 2.06-2.06.94zm-11 1L8.5 8.5l.94-2.06 2.06-.94-2.06-.94L8.5 2.5l-.94 2.06-2.06.94zm10 10l.94 2.06.94-2.06 2.06-.94-2.06-.94-.94-2.06-.94 2.06-2.06.94z\"/><path d=\"M17.41 7.96l-1.37-1.37c-.4-.4-.92-.59-1.43-.59-.52 0-1.04.2-1.43.59L10.3 9.45l-7.72 7.72c-.78.78-.78 2.05 0 2.83L4 21.41c.39.39.9.59 1.41.59.51 0 1.02-.2 1.41-.59l7.78-7.78 2.81-2.81c.8-.78.8-2.07 0-2.86zM5.41 20L4 18.59l7.72-7.72 1.47 1.35L5.41 20z\"/>\n",
              "  </svg>\n",
              "      </button>\n",
              "      \n",
              "  <style>\n",
              "    .colab-df-container {\n",
              "      display:flex;\n",
              "      flex-wrap:wrap;\n",
              "      gap: 12px;\n",
              "    }\n",
              "\n",
              "    .colab-df-convert {\n",
              "      background-color: #E8F0FE;\n",
              "      border: none;\n",
              "      border-radius: 50%;\n",
              "      cursor: pointer;\n",
              "      display: none;\n",
              "      fill: #1967D2;\n",
              "      height: 32px;\n",
              "      padding: 0 0 0 0;\n",
              "      width: 32px;\n",
              "    }\n",
              "\n",
              "    .colab-df-convert:hover {\n",
              "      background-color: #E2EBFA;\n",
              "      box-shadow: 0px 1px 2px rgba(60, 64, 67, 0.3), 0px 1px 3px 1px rgba(60, 64, 67, 0.15);\n",
              "      fill: #174EA6;\n",
              "    }\n",
              "\n",
              "    [theme=dark] .colab-df-convert {\n",
              "      background-color: #3B4455;\n",
              "      fill: #D2E3FC;\n",
              "    }\n",
              "\n",
              "    [theme=dark] .colab-df-convert:hover {\n",
              "      background-color: #434B5C;\n",
              "      box-shadow: 0px 1px 3px 1px rgba(0, 0, 0, 0.15);\n",
              "      filter: drop-shadow(0px 1px 2px rgba(0, 0, 0, 0.3));\n",
              "      fill: #FFFFFF;\n",
              "    }\n",
              "  </style>\n",
              "\n",
              "      <script>\n",
              "        const buttonEl =\n",
              "          document.querySelector('#df-5c3dd5b2-cb91-4169-a702-8e319a6c4bf7 button.colab-df-convert');\n",
              "        buttonEl.style.display =\n",
              "          google.colab.kernel.accessAllowed ? 'block' : 'none';\n",
              "\n",
              "        async function convertToInteractive(key) {\n",
              "          const element = document.querySelector('#df-5c3dd5b2-cb91-4169-a702-8e319a6c4bf7');\n",
              "          const dataTable =\n",
              "            await google.colab.kernel.invokeFunction('convertToInteractive',\n",
              "                                                     [key], {});\n",
              "          if (!dataTable) return;\n",
              "\n",
              "          const docLinkHtml = 'Like what you see? Visit the ' +\n",
              "            '<a target=\"_blank\" href=https://colab.research.google.com/notebooks/data_table.ipynb>data table notebook</a>'\n",
              "            + ' to learn more about interactive tables.';\n",
              "          element.innerHTML = '';\n",
              "          dataTable['output_type'] = 'display_data';\n",
              "          await google.colab.output.renderOutput(dataTable, element);\n",
              "          const docLink = document.createElement('div');\n",
              "          docLink.innerHTML = docLinkHtml;\n",
              "          element.appendChild(docLink);\n",
              "        }\n",
              "      </script>\n",
              "    </div>\n",
              "  </div>\n",
              "  "
            ]
          },
          "metadata": {},
          "execution_count": 15
        }
      ]
    },
    {
      "cell_type": "code",
      "source": [
        "\n",
        "print(f\"Null Values Count: \\n\\n\")\n",
        "\n",
        "df.isnull().sum()"
      ],
      "metadata": {
        "colab": {
          "base_uri": "https://localhost:8080/"
        },
        "id": "h8_pwIjU4cDc",
        "outputId": "f4a6d8e7-1d04-4f28-cd32-67cfd4b55019"
      },
      "execution_count": 16,
      "outputs": [
        {
          "output_type": "stream",
          "name": "stdout",
          "text": [
            "Null Values Count: \n",
            "\n",
            "\n"
          ]
        },
        {
          "output_type": "execute_result",
          "data": {
            "text/plain": [
              "0        0\n",
              "0.1      0\n",
              "0.2      0\n",
              "0.3      0\n",
              "0.4      0\n",
              "        ..\n",
              "0.644    0\n",
              "0.645    0\n",
              "0.646    0\n",
              "0.647    0\n",
              "0.648    0\n",
              "Length: 785, dtype: int64"
            ]
          },
          "metadata": {},
          "execution_count": 16
        }
      ]
    },
    {
      "cell_type": "markdown",
      "source": [
        "# Data Preparation and Manipulation"
      ],
      "metadata": {
        "id": "L93gv_dP4uPm"
      }
    },
    {
      "cell_type": "code",
      "source": [
        "# Split the dataset into two splits.\n",
        "# Obviously, X and Y\n",
        "\n",
        "x = df.drop('0', axis = 1)\n",
        "y = df['0']\n",
        "\n"
      ],
      "metadata": {
        "id": "LUtCLyn24oIE"
      },
      "execution_count": 17,
      "outputs": []
    },
    {
      "cell_type": "markdown",
      "source": [
        "## Fine Tuning Our Dataset"
      ],
      "metadata": {
        "id": "FAw-AKAG5v6i"
      }
    },
    {
      "cell_type": "code",
      "source": [
        "# Reshaping our dataset to get the best dataset our model can understand.\n",
        "# To fine tune by reshaping helps us to convert our data into imagery format.\n",
        "# we are going to split our dataset into two parts(X, Y). However, each dataset needs  to be \n",
        "# split further into two parts(x = training data and y-Testing data)\n",
        "\n",
        "x_train_split, x_test_split, y_train_split, y_test_split = train_test_split(x, y, test_size = 0.2)\n",
        "x_train_split = numpy.reshape(x_train_split.values, (x_train_split.shape[0], int(28.0178515), int(28.0178515)))\n",
        "\n",
        "x_test_split = numpy.reshape(x_test_split.values, (x_test_split.shape[0], int(28.0178515), int(28.0178515)))\n",
        "\n",
        "print('Our training data split new shape after reshape is:', x_train_split.shape)\n",
        "print('Our test data split new shape after reshape is:', x_test_split.shape)"
      ],
      "metadata": {
        "colab": {
          "base_uri": "https://localhost:8080/"
        },
        "id": "MASHPtXT532G",
        "outputId": "e3f7426e-206e-40ec-b37e-0597db1a38df"
      },
      "execution_count": 18,
      "outputs": [
        {
          "output_type": "stream",
          "name": "stdout",
          "text": [
            "Our training data split new shape after reshape is: (297960, 28, 28)\n",
            "Our test data split new shape after reshape is: (74490, 28, 28)\n"
          ]
        }
      ]
    },
    {
      "cell_type": "code",
      "source": [
        "# Create dictionary to hold on the alphabet characters. We shall use this to help us revamp \n",
        "# the dataframe character's keys. Why? this is because, characters in the file(dataframe) are \n",
        "# using floating values as keys.\n",
        "\n",
        "alphabet_dictionary = {\n",
        "    0:'A',\n",
        "    1:'B',\n",
        "    2:'C',\n",
        "    3:'D',\n",
        "    4:'E',\n",
        "    5:'F',\n",
        "    6:'G',\n",
        "    7:'H',\n",
        "    8:'I',\n",
        "    9:'J',\n",
        "    10:'K',\n",
        "    11:'L',\n",
        "    12:'M',\n",
        "    13:'N',\n",
        "    14:'O',\n",
        "    15:'P',\n",
        "    16:'Q',\n",
        "    17:'R',\n",
        "    18:'S',\n",
        "    19:'T',\n",
        "    20:'U',\n",
        "    21:'V',\n",
        "    22:'W',\n",
        "    23:'X', \n",
        "    24:'Y',\n",
        "    25:'Z'\n",
        "}\n",
        "\n",
        "# Visualize Alphabet distribution in the dataset maping our alphabet dictionary\n",
        "# above\n",
        "\n",
        "y_integer = numpy.int0(y) # Pass Y series as our data to plot our sketch against the alphabets distribution.\n",
        "alphabet_count = numpy.zeros(26, dtype = 'int')\n",
        "\n",
        "for i in y_integer:\n",
        "    alphabet_count[i] += 1\n",
        "    \n",
        "alphabets = []\n",
        "\n",
        "for i in alphabet_dictionary.values():\n",
        "    alphabets.append(i)\n",
        "    \n",
        "fig, ax = plot.subplots(1, 1, figsize = (18, 8))\n",
        "ax.barh(alphabets, alphabet_count)\n",
        "\n",
        "plot.xlabel('Elements', fontsize = 20, fontweight = 'bold', color = 'green')\n",
        "plot.ylabel('Alphabets', fontsize = 30, fontweight = 'bold', color = 'green')\n",
        "plot.plot() \n",
        "\n",
        "plot.savefig(f\"{input_plots_path}/AlphabetMappingVisualization.png\")\n",
        "plot.show()\n"
      ],
      "metadata": {
        "colab": {
          "base_uri": "https://localhost:8080/",
          "height": 506
        },
        "id": "g_V4PmrvEeiE",
        "outputId": "0a50d90c-3a6e-4579-e811-cd9051836e7f"
      },
      "execution_count": 19,
      "outputs": [
        {
          "output_type": "display_data",
          "data": {
            "text/plain": [
              "<Figure size 1296x576 with 1 Axes>"
            ],
            "image/png": "[encoded data removed]"
          },
          "metadata": {
            "needs_background": "light"
          }
        }
      ]
    },
    {
      "cell_type": "code",
      "source": [
        "# Shuffling Our Images from the dataset.\n",
        "# This helps in model optimization. It is one method of Optimizing a model.\n",
        "\n",
        "shuffles = shuffle(x_train_split[:100])\n",
        "\n",
        "fig, ax = plot.subplots(3, 3, figsize = (18, 15))\n",
        "axes = ax.flatten()\n",
        "\n",
        "for i in range(9):\n",
        "    shuffle = cv2.threshold(shuffles[i], 30, 200, cv2.THRESH_BINARY)\n",
        "\n",
        "    axes[i].imshow(numpy.reshape(shuffles[i], (28, 28)), cmap = 'Greys')\n",
        "\n",
        "plot.savefig(f\"{output_plots_path}/DatasetShufflingVisualization.png\")\n",
        "plot.show()\n"
      ],
      "metadata": {
        "colab": {
          "base_uri": "https://localhost:8080/",
          "height": 863
        },
        "id": "q31sWT3wOsG2",
        "outputId": "5e3622e8-7e39-41b8-b74e-4ce1282f2a34"
      },
      "execution_count": 20,
      "outputs": [
        {
          "output_type": "display_data",
          "data": {
            "text/plain": [
              "<Figure size 1296x1080 with 9 Axes>"
            ],
            "image/png": "[encoded data removed]"
          },
          "metadata": {
            "needs_background": "light"
          }
        }
      ]
    },
    {
      "cell_type": "code",
      "source": [
        "# we are going to do a Reshaping Our dataset. training and test split \n",
        "# should be reshaped to make it perfect for the model to understand in the best way possible.\n",
        "# Remember our current shape of our data is:\n",
        "# train data: (297960, 28, 28, 1)\n",
        "# test data: (74490, 28, 28, 1)\n",
        "\n",
        "# SO:\n",
        "x_train_split = x_train_split.reshape(x_train_split.shape[0], x_train_split.shape[1], x_train_split.shape[2], 1)\n",
        "print(\"New Shape of our x training data split after reshape is: \", x_train_split.shape)\n",
        "\n",
        "x_test_split = x_test_split.reshape(x_test_split.shape[0], x_test_split.shape[1], x_test_split.shape[2], 1)\n",
        "print(\"New shape of our x testing data split after reshape is: \", x_test_split.shape)\n",
        "\n",
        "\n",
        "# Last but not list, doing final tuning on our y train dataset split by \n",
        "# changing float values in our dataset to categorical values.\n",
        "# Converts a class vector (integers) to binary class matrix.\n",
        "y_train_split = to_categorical(y_train_split, num_classes = 26, dtype = 'int')\n",
        "print(\"New Shape of our y training data split after float value - categorical values conversion is: \", y_train_split.shape)\n",
        "\n",
        "y_test_split = to_categorical(y_test_split, num_classes = 26, dtype = 'int')\n",
        "print(\"New shape of our y testing data split after float value - categorical values conversion is: \", y_test_split.shape)\n"
      ],
      "metadata": {
        "colab": {
          "base_uri": "https://localhost:8080/"
        },
        "id": "SJ2CF9q_WT7O",
        "outputId": "db61a123-d1ae-4e6e-e336-dca6e87e76e9"
      },
      "execution_count": 21,
      "outputs": [
        {
          "output_type": "stream",
          "name": "stdout",
          "text": [
            "New Shape of our x training data split after reshape is:  (297960, 28, 28, 1)\n",
            "New shape of our x testing data split after reshape is:  (74490, 28, 28, 1)\n",
            "New Shape of our y training data split after float value - categorical values conversion is:  (297960, 26)\n",
            "New shape of our y testing data split after float value - categorical values conversion is:  (74490, 26)\n"
          ]
        }
      ]
    },
    {
      "cell_type": "markdown",
      "source": [
        "# MODELLING"
      ],
      "metadata": {
        "id": "0G-01VDGk32c"
      }
    },
    {
      "cell_type": "markdown",
      "source": [
        "## Our Model"
      ],
      "metadata": {
        "id": "Bmf7uvf4lHR_"
      }
    },
    {
      "cell_type": "code",
      "source": [
        "# Model Setup:\n",
        "sequential_model = Sequential()\n",
        "\n",
        "model_layers_array = [\n",
        "                      Conv2D(filters = 32, kernel_size = (3, 3), activation = 'relu', input_shape = (28, 28, 1)),\n",
        "                      MaxPool2D(pool_size = (2, 2), strides = 2),\n",
        "                      Conv2D(filters = 64, kernel_size = (3, 3), activation = 'relu', padding = 'same'),\n",
        "                      MaxPool2D(pool_size = (2, 2), strides = 2),\n",
        "                      Conv2D(filters = 128, kernel_size = (3, 3), activation = 'relu', padding = 'valid'),\n",
        "                      MaxPool2D(pool_size = (2, 2), strides = 2),\n",
        "                      Flatten(),\n",
        "                      Dense(64, activation = \"relu\"),\n",
        "                      Dense(128, activation = \"relu\"),\n",
        "                      Dense(26, activation = \"softmax\")\n",
        "                  ]\n",
        "\n",
        "for layer in model_layers_array:\n",
        "  sequential_model.add(layer)\n"
      ],
      "metadata": {
        "id": "T_MgWi7ilGfc"
      },
      "execution_count": 22,
      "outputs": []
    },
    {
      "cell_type": "code",
      "source": [
        "# Model Compiling\n",
        "# we compile our model using a compile() function method.\n",
        "sequential_model.compile(\n",
        "    optimizer = 'adam', \n",
        "    loss = 'categorical_crossentropy', \n",
        "    metrics = ['accuracy']\n",
        ")"
      ],
      "metadata": {
        "id": "MKiYFQUEk3PF"
      },
      "execution_count": 23,
      "outputs": []
    },
    {
      "cell_type": "code",
      "source": [
        "# Training Our model using fit() function method\n",
        "history = sequential_model.fit(x_train_split, y_train_split, epochs = 10, validation_data = (x_test_split, y_test_split))\n"
      ],
      "metadata": {
        "colab": {
          "base_uri": "https://localhost:8080/"
        },
        "id": "4hO_qPv0po3q",
        "outputId": "d16551d3-4997-4aac-9c1b-c681a4d3459a"
      },
      "execution_count": 24,
      "outputs": [
        {
          "output_type": "stream",
          "name": "stdout",
          "text": [
            "Epoch 1/10\n",
            "9312/9312 [==============================] - 398s 43ms/step - loss: 0.1608 - accuracy: 0.9570 - val_loss: 0.0811 - val_accuracy: 0.9771\n",
            "Epoch 2/10\n",
            "9312/9312 [==============================] - 404s 43ms/step - loss: 0.0730 - accuracy: 0.9800 - val_loss: 0.0680 - val_accuracy: 0.9822\n",
            "Epoch 3/10\n",
            "9312/9312 [==============================] - 400s 43ms/step - loss: 0.0612 - accuracy: 0.9833 - val_loss: 0.0615 - val_accuracy: 0.9851\n",
            "Epoch 4/10\n",
            "9312/9312 [==============================] - 407s 44ms/step - loss: 0.0563 - accuracy: 0.9849 - val_loss: 0.0635 - val_accuracy: 0.9834\n",
            "Epoch 5/10\n",
            "9312/9312 [==============================] - 414s 44ms/step - loss: 0.0527 - accuracy: 0.9860 - val_loss: 0.0614 - val_accuracy: 0.9854\n",
            "Epoch 6/10\n",
            "9312/9312 [==============================] - 426s 46ms/step - loss: 0.0510 - accuracy: 0.9864 - val_loss: 0.0758 - val_accuracy: 0.9837\n",
            "Epoch 7/10\n",
            "9312/9312 [==============================] - 418s 45ms/step - loss: 0.0506 - accuracy: 0.9872 - val_loss: 0.0718 - val_accuracy: 0.9834\n",
            "Epoch 8/10\n",
            "9312/9312 [==============================] - 424s 46ms/step - loss: 0.0504 - accuracy: 0.9877 - val_loss: 0.0586 - val_accuracy: 0.9857\n",
            "Epoch 9/10\n",
            "9312/9312 [==============================] - 416s 45ms/step - loss: 0.0495 - accuracy: 0.9879 - val_loss: 0.0528 - val_accuracy: 0.9881\n",
            "Epoch 10/10\n",
            "9312/9312 [==============================] - 417s 45ms/step - loss: 0.0488 - accuracy: 0.9881 - val_loss: 0.0776 - val_accuracy: 0.9834\n"
          ]
        }
      ]
    },
    {
      "cell_type": "code",
      "source": [
        "\n",
        "sequential_model.summary()\n"
      ],
      "metadata": {
        "colab": {
          "base_uri": "https://localhost:8080/"
        },
        "id": "8uQzEVVqvOQD",
        "outputId": "46baac31-b345-4323-8cda-1a2d5109426e"
      },
      "execution_count": 25,
      "outputs": [
        {
          "output_type": "stream",
          "name": "stdout",
          "text": [
            "Model: \"sequential\"\n",
            "_________________________________________________________________\n",
            " Layer (type)                Output Shape              Param #   \n",
            "=================================================================\n",
            " conv2d (Conv2D)             (None, 26, 26, 32)        320       \n",
            "                                                                 \n",
            " max_pooling2d (MaxPooling2D  (None, 13, 13, 32)       0         \n",
            " )                                                               \n",
            "                                                                 \n",
            " conv2d_1 (Conv2D)           (None, 13, 13, 64)        18496     \n",
            "                                                                 \n",
            " max_pooling2d_1 (MaxPooling  (None, 6, 6, 64)         0         \n",
            " 2D)                                                             \n",
            "                                                                 \n",
            " conv2d_2 (Conv2D)           (None, 4, 4, 128)         73856     \n",
            "                                                                 \n",
            " max_pooling2d_2 (MaxPooling  (None, 2, 2, 128)        0         \n",
            " 2D)                                                             \n",
            "                                                                 \n",
            " flatten (Flatten)           (None, 512)               0         \n",
            "                                                                 \n",
            " dense (Dense)               (None, 64)                32832     \n",
            "                                                                 \n",
            " dense_1 (Dense)             (None, 128)               8320      \n",
            "                                                                 \n",
            " dense_2 (Dense)             (None, 26)                3354      \n",
            "                                                                 \n",
            "=================================================================\n",
            "Total params: 137,178\n",
            "Trainable params: 137,178\n",
            "Non-trainable params: 0\n",
            "_________________________________________________________________\n"
          ]
        }
      ]
    },
    {
      "cell_type": "code",
      "source": [
        "\n",
        "# You can as well have a script if a same model exists create a different version \n",
        "# save as a new version. Meanwhile, Our model should be saved in this stage. \n",
        "sequential_model.save(f\"{saved_models_path}/text_character_recognition_model.h5\")\n"
      ],
      "metadata": {
        "id": "IQbzY7CPx3Z0"
      },
      "execution_count": 26,
      "outputs": []
    },
    {
      "cell_type": "markdown",
      "source": [
        "# Model Accuracy and Loss Lookout (Training and Validation)"
      ],
      "metadata": {
        "id": "tdM60IjG3dMO"
      }
    },
    {
      "cell_type": "code",
      "source": [
        "# There several ways of how to increase/improve performance in terms of accuracy\n",
        "# We shall discuss them in the documentation for that matter.\n",
        "\n",
        "# The printing of the accuracy and loss below is shown in how epochs were \n",
        "# run respectively.\n",
        "\n",
        "count = 0\n",
        "print(\"Model Validation accuracy values: \\n\")\n",
        "for acuracy_value in history.history['val_accuracy']:\n",
        "  count += 1\n",
        "  print(f\"{count}: \", acuracy_value)\n",
        "\n",
        "print(\"\\n\\n\")\n",
        "\n",
        "count = 0\n",
        "print(\"Model Training accuracy values: \\n\")\n",
        "for acuracy_value in history.history['accuracy']:\n",
        "  count += 1\n",
        "  print(f\"{count}: \", acuracy_value)\n",
        "\n",
        "print(\"\\n\\n\")\n",
        "\n",
        "count = 0\n",
        "print(\"Model Validation loss values: \\n\")\n",
        "for loss in history.history['val_loss']:\n",
        "  count += 1\n",
        "  print(f\"{count}: \", loss)\n",
        "\n",
        "print(\"\\n\\n\")\n",
        "\n",
        "count = 0\n",
        "print(\"Model Training loss values: \\n\")\n",
        "for loss in history.history['loss']:\n",
        "  count += 1\n",
        "  print(f\"{count}: \", loss)  \n"
      ],
      "metadata": {
        "colab": {
          "base_uri": "https://localhost:8080/"
        },
        "id": "O4J6i-rNy7KP",
        "outputId": "8e818cfa-8679-4cee-ecfa-e5d44a7316fb"
      },
      "execution_count": 27,
      "outputs": [
        {
          "output_type": "stream",
          "name": "stdout",
          "text": [
            "Model Validation accuracy values: \n",
            "\n",
            "1:  0.9771378636360168\n",
            "2:  0.9821855425834656\n",
            "3:  0.9850584268569946\n",
            "4:  0.9833534955978394\n",
            "5:  0.9853671789169312\n",
            "6:  0.9837159514427185\n",
            "7:  0.9834071397781372\n",
            "8:  0.9857162237167358\n",
            "9:  0.9881191849708557\n",
            "10:  0.9833534955978394\n",
            "\n",
            "\n",
            "\n",
            "Model Training accuracy values: \n",
            "\n",
            "1:  0.9569539427757263\n",
            "2:  0.9799603819847107\n",
            "3:  0.983272910118103\n",
            "4:  0.9848805069923401\n",
            "5:  0.9859645366668701\n",
            "6:  0.9864310622215271\n",
            "7:  0.9871694445610046\n",
            "8:  0.9877164959907532\n",
            "9:  0.9878775477409363\n",
            "10:  0.9881125092506409\n",
            "\n",
            "\n",
            "\n",
            "Model Validation loss values: \n",
            "\n",
            "1:  0.0810558870434761\n",
            "2:  0.06799600273370743\n",
            "3:  0.06150934472680092\n",
            "4:  0.06346261501312256\n",
            "5:  0.06135787069797516\n",
            "6:  0.07583218067884445\n",
            "7:  0.07175902277231216\n",
            "8:  0.05861283093690872\n",
            "9:  0.05279875174164772\n",
            "10:  0.07759948819875717\n",
            "\n",
            "\n",
            "\n",
            "Model Training loss values: \n",
            "\n",
            "1:  0.16083987057209015\n",
            "2:  0.07298122346401215\n",
            "3:  0.06120156869292259\n",
            "4:  0.05634519085288048\n",
            "5:  0.05268457904458046\n",
            "6:  0.05095662921667099\n",
            "7:  0.050626564770936966\n",
            "8:  0.05042000114917755\n",
            "9:  0.049521926790475845\n",
            "10:  0.048760052770376205\n"
          ]
        }
      ]
    },
    {
      "cell_type": "markdown",
      "source": [
        "# PREDICTION PHASE"
      ],
      "metadata": {
        "id": "FhJHCAmG4IdV"
      }
    },
    {
      "cell_type": "code",
      "source": [
        "pred = sequential_model.predict([x_test_split]) \n",
        "print(pred)"
      ],
      "metadata": {
        "colab": {
          "base_uri": "https://localhost:8080/"
        },
        "id": "XvF3aBltV-V7",
        "outputId": "1f835453-cfdf-419a-e6e0-c59eaf4d35fa"
      },
      "execution_count": 53,
      "outputs": [
        {
          "output_type": "stream",
          "name": "stdout",
          "text": [
            "[[2.0575628e-18 1.4401040e-07 3.4458194e-06 ... 4.3624835e-12\n",
            "  4.8810463e-08 6.2637200e-06]\n",
            " [2.4428491e-16 2.5698856e-18 5.9128192e-22 ... 0.0000000e+00\n",
            "  5.9431286e-27 1.9469779e-31]\n",
            " [9.9999392e-01 4.5016879e-13 3.2622057e-18 ... 2.7826641e-22\n",
            "  7.0643592e-34 2.5064075e-17]\n",
            " ...\n",
            " [0.0000000e+00 3.6594029e-27 2.8607697e-29 ... 0.0000000e+00\n",
            "  3.4236179e-37 1.0053996e-25]\n",
            " [8.0252490e-28 1.8572390e-22 9.9980134e-01 ... 0.0000000e+00\n",
            "  1.6785512e-18 1.2745775e-07]\n",
            " [1.4519195e-23 7.0777488e-13 2.0019084e-12 ... 0.0000000e+00\n",
            "  1.2063624e-17 0.0000000e+00]]\n"
          ]
        }
      ]
    },
    {
      "cell_type": "code",
      "source": [
        "\n",
        "# To use prediction made, we are going to plot show the letters in an image\n",
        "# formart. Thn we are going to compare the x test split images against the prediction. \n",
        "\n",
        "fig, axes = plot.subplots(4, 3, figsize = (12, 15))\n",
        "axes = axes.flatten()\n",
        "\n",
        "for i, ax in enumerate(axes):\n",
        "    img = numpy.reshape(x_test_split[i], (28, 28))\n",
        "    # print(img)\n",
        "    ax.imshow(img, cmap = 'Greys') \n",
        "\n",
        "    prediction = alphabet_dictionary[numpy.argmax(pred[i])]\n",
        "    # print(prediction)\n",
        "    ax.set_title(\"Prediction is: \" + prediction, fontsize = 12, fontweight = 'bold', color = 'green')\n",
        "    ax.grid()\n",
        "plot.savefig(f\"{output_plots_path}/Text_Characters_Prediction_With_Our_Saved_Model.png\") \n",
        "\n"
      ],
      "metadata": {
        "colab": {
          "base_uri": "https://localhost:8080/",
          "height": 879
        },
        "id": "cjkVqn1S3aNx",
        "outputId": "3500e4d7-be9a-4759-953a-124a7f076f3c"
      },
      "execution_count": 61,
      "outputs": [
        {
          "output_type": "display_data",
          "data": {
            "text/plain": [
              "<Figure size 864x1080 with 12 Axes>"
            ],
            "image/png": "[encoded data removed]"
          },
          "metadata": {
            "needs_background": "light"
          }
        }
      ]
    },
    {
      "cell_type": "markdown",
      "source": [
        "#                                                                      **END**\n",
        "\n",
        "\n",
        "Our Model is perfectly crafted and accurate with final accuracy value of, 0.9881125092506409 and final validation value of, 0.07759948819875717."
      ],
      "metadata": {
        "id": "prgyFDqwZVjn"
      }
    }
  ]
}